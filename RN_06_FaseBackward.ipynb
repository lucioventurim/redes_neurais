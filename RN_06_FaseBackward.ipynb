{
  "nbformat": 4,
  "nbformat_minor": 0,
  "metadata": {
    "colab": {
      "name": "RN_06_FaseBackward.ipynb",
      "provenance": [],
      "collapsed_sections": []
    },
    "kernelspec": {
      "name": "python3",
      "display_name": "Python 3"
    }
  },
  "cells": [
    {
      "cell_type": "markdown",
      "metadata": {
        "id": "VJ9ZitnJUOCF",
        "colab_type": "text"
      },
      "source": [
        "# Redes Neurais\n",
        "# Exercício 06\n",
        "Fase Backward"
      ]
    },
    {
      "cell_type": "markdown",
      "metadata": {
        "id": "ZnrUHuzEUTtw",
        "colab_type": "text"
      },
      "source": [
        "# 1 - Implementação da classe Fase Backward"
      ]
    },
    {
      "cell_type": "code",
      "metadata": {
        "id": "QNTllf5jR4gc",
        "colab_type": "code",
        "colab": {}
      },
      "source": [
        "import numpy as np\n",
        "import pandas as pd\n",
        "from sklearn.base import BaseEstimator, ClassifierMixin\n",
        "from scipy.special import expit\n",
        "import random\n",
        "\n",
        "#Funções de ativação\n",
        "def tanh(x):\n",
        "    return (1.0 - np.exp(-2*x))/(1.0 + np.exp(-2*x))\n",
        "def tanh_derivada(x):\n",
        "    return (1 + x)*(1 - x)\n",
        "\n",
        "class FaseBackward(BaseEstimator, ClassifierMixin):\n",
        "  def __init__(self):\n",
        "    self.inputW11 = random.sample(range(-2, 2), 3) #Pesos que multiplicam o nó z21\n",
        "    self.inputW12 = random.sample(range(-2, 2), 3) #Pesos que multiplicam o nó z22\n",
        "    self.inputW2= random.sample(range(-2, 2), 3) #Pesos que multiplicam o nó z31\n",
        "  def fit(self, X, y=None):\n",
        "    epochs = 1000 #Número de épocas\n",
        "    learning_rate = 0.05 #Taxa de aprendizado\n",
        "    X_b = np.hstack((np.ones((X.shape[0],1)),X))\n",
        "    for i in range(epochs):\n",
        "      for k, ya in zip(X_b, y):\n",
        "        #Fase Forward\n",
        "        z21 = np.sum(np.multiply(k, self.inputW11)) #Valor do nó Z21 antes função de ativação\n",
        "        z22 = np.sum(np.multiply(k, self.inputW12)) #Valor do nó Z22 antes função de ativação\n",
        "        new_in = [tanh(z21), tanh(z22)] #Aplicação da função de ativação\n",
        "        hidden = np.insert(new_in, 0, 1) #Inclusão do bias na camada interna\n",
        "        z31 = np.sum(np.multiply(hidden, self.inputW2)) #Valor do nó Z31 antes função de ativação\n",
        "        a31 = tanh(z31) #Aplicação da função de ativação\n",
        "        # Fase Backward\n",
        "        d31 = a31 - ya #Cálculo do erro da última camada\n",
        "        d21 = (self.inputW2[1]*d31)*tanh_derivada(new_in[0]) #Cálculo do erro da camada interna em d21\n",
        "        d22 = (self.inputW2[2]*d31)*tanh_derivada(new_in[1]) #Cálculo do erro da camada interna em d22\n",
        "        self.inputW2 = self.inputW2 - (learning_rate*d31*hidden) #Atualização do peso\n",
        "        self.inputW12 = self.inputW12 - (learning_rate*d22*k) #Atualização do peso\n",
        "        self.inputW11 = self.inputW11 - (learning_rate*d21*k) #Atualização do peso\n",
        "\n",
        "  def predict(self, X, y=None):\n",
        "    X_b = np.hstack((np.ones((X.shape[0],1)),X))\n",
        "    y_pred = []\n",
        "    for k in X_b:\n",
        "      z21 = np.sum(np.multiply(k, self.inputW11))\n",
        "      z22 = np.sum(np.multiply(k, self.inputW12))\n",
        "      new_in = [tanh(z21), tanh(z22)]\n",
        "      hidden = np.insert(new_in, 0, 1)\n",
        "      z31 = np.sum(np.multiply(hidden, self.inputW2))\n",
        "      a31 = tanh(z31)\n",
        "      y_pred = np.append(y_pred, a31)\n",
        "    return y_pred"
      ],
      "execution_count": 32,
      "outputs": []
    },
    {
      "cell_type": "markdown",
      "metadata": {
        "id": "AIJKN9kpUax1",
        "colab_type": "text"
      },
      "source": [
        "# 2 - Criação da Base e Plotagem dos Resultados"
      ]
    },
    {
      "cell_type": "code",
      "metadata": {
        "id": "VjkQVYqLTMms",
        "colab_type": "code",
        "colab": {
          "base_uri": "https://localhost:8080/",
          "height": 662
        },
        "outputId": "5d946d60-ffc6-494e-a98f-ef894ea05a28"
      },
      "source": [
        "import numpy as np\n",
        "import matplotlib.pyplot as plt\n",
        "from matplotlib.colors import ListedColormap\n",
        "\n",
        "import warnings\n",
        "warnings.filterwarnings(\"ignore\")\n",
        "\n",
        "h = .02  # step size in the mesh\n",
        "\n",
        "names = [\"Fase Backward\"]\n",
        "\n",
        "classifiers = [\n",
        "    FaseBackward()]\n",
        "\n",
        "# Criação da base\n",
        "X1 = np.array([[0, 0], [0, 1], [1, 0], [1, 1]])\n",
        "y1 = np.array([0, 1, 1, 0])\n",
        "\n",
        "base = (X1, y1)\n",
        "\n",
        "datasets = [base]\n",
        "\n",
        "figure = plt.figure(figsize=(27, 9))\n",
        "i = 1\n",
        "# iterar as bases\n",
        "for ds_cnt, ds in enumerate(datasets):\n",
        "      \n",
        "    X, y = ds\n",
        "\n",
        "    x_min, x_max = X[:, 0].min() - .5, X[:, 0].max() + .5\n",
        "    y_min, y_max = X[:, 1].min() - .5, X[:, 1].max() + .5\n",
        "    xx, yy = np.meshgrid(np.arange(x_min, x_max, h),\n",
        "                         np.arange(y_min, y_max, h))\n",
        "\n",
        "    # plota a base\n",
        "    cm = plt.cm.RdBu\n",
        "    cm_bright = ListedColormap(['#FF0000', '#0000FF'])\n",
        "    ax = plt.subplot(len(datasets), len(classifiers) + 1, i)\n",
        "    if ds_cnt == 0:\n",
        "        ax.set_title(\"Input data\")\n",
        "    # plota os dados\n",
        "    ax.scatter(X[:, 0], X[:, 1], c=y, cmap=cm_bright,\n",
        "               edgecolors='k')\n",
        "    ax.set_xlim(xx.min(), xx.max())\n",
        "    ax.set_ylim(yy.min(), yy.max())\n",
        "    ax.set_xticks(())\n",
        "    ax.set_yticks(())\n",
        "    i += 1\n",
        "\n",
        "    # itera os classificadores\n",
        "    for name, clf in zip(names, classifiers):\n",
        "        ax = plt.subplot(len(datasets), len(classifiers) + 1, i)\n",
        "        clf.fit(X, y)\n",
        "\n",
        "        # plota os limites de decisão\n",
        "        if hasattr(clf, \"predict\"):\n",
        "            Z = clf.predict(np.c_[xx.ravel(), yy.ravel()])\n",
        "\n",
        "        # plota com as cores\n",
        "        Z = Z.reshape(xx.shape)\n",
        "        ax.contourf(xx, yy, Z, cmap=cm, alpha=.8)\n",
        "\n",
        "        # plota os pontos\n",
        "        ax.scatter(X[:, 0], X[:, 1], c=y, cmap=cm_bright,\n",
        "                   edgecolors='k')\n",
        "\n",
        "        ax.set_xlim(xx.min(), xx.max())\n",
        "        ax.set_ylim(yy.min(), yy.max())\n",
        "        ax.set_xticks(())\n",
        "        ax.set_yticks(())\n",
        "        if ds_cnt == 0:\n",
        "            ax.set_title(name)\n",
        "        i += 1\n",
        "        print(\"W11 - \", clf.inputW11)\n",
        "        print(\"W12 - \", clf.inputW12)\n",
        "        print(\"W2 - \", clf.inputW2)\n",
        "plt.tight_layout()\n",
        "plt.show()\n"
      ],
      "execution_count": 34,
      "outputs": [
        {
          "output_type": "stream",
          "text": [
            "W11 -  [-0.90025547  2.11941528 -2.64874086]\n",
            "W12 -  [ 1.12427969  1.81014271 -2.17517047]\n",
            "W2 -  [ 2.85157365  1.83847879 -1.88690515]\n"
          ],
          "name": "stdout"
        },
        {
          "output_type": "display_data",
          "data": {
            "image/png": "[encoded data removed]",
            "text/plain": [
              "<Figure size 1944x648 with 2 Axes>"
            ]
          },
          "metadata": {
            "tags": []
          }
        }
      ]
    }
  ]
}