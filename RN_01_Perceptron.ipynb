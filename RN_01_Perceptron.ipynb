{
  "nbformat": 4,
  "nbformat_minor": 0,
  "metadata": {
    "colab": {
      "name": "RN_01_Perceptron.ipynb",
      "provenance": []
    },
    "kernelspec": {
      "name": "python3",
      "display_name": "Python 3"
    }
  },
  "cells": [
    {
      "cell_type": "markdown",
      "metadata": {
        "id": "uJAD88CYY3Ek",
        "colab_type": "text"
      },
      "source": [
        "## Redes Neurais\n",
        "# Exercício 01\n",
        "Perceptron"
      ]
    },
    {
      "cell_type": "markdown",
      "metadata": {
        "id": "3d2AX1i8ZCff",
        "colab_type": "text"
      },
      "source": [
        "1 - Carregamento da base de dados"
      ]
    },
    {
      "cell_type": "code",
      "metadata": {
        "id": "d5_nG3gJrsKD",
        "colab_type": "code",
        "colab": {
          "base_uri": "https://localhost:8080/",
          "height": 34
        },
        "outputId": "e6897ee3-7d69-4168-a2be-c3225cf12efa"
      },
      "source": [
        "from sklearn.datasets import load_breast_cancer\n",
        "data = load_breast_cancer()\n",
        "data.keys()"
      ],
      "execution_count": 35,
      "outputs": [
        {
          "output_type": "execute_result",
          "data": {
            "text/plain": [
              "dict_keys(['data', 'target', 'target_names', 'DESCR', 'feature_names', 'filename'])"
            ]
          },
          "metadata": {
            "tags": []
          },
          "execution_count": 35
        }
      ]
    },
    {
      "cell_type": "markdown",
      "metadata": {
        "id": "rn2ayBwjZLF3",
        "colab_type": "text"
      },
      "source": [
        "2 - Divisão dos dados em treino e teste"
      ]
    },
    {
      "cell_type": "code",
      "metadata": {
        "id": "JPThraMzr5IY",
        "colab_type": "code",
        "colab": {
          "base_uri": "https://localhost:8080/",
          "height": 50
        },
        "outputId": "71691ead-596f-4432-be23-2b931c59721c"
      },
      "source": [
        "from sklearn.model_selection import train_test_split\n",
        "X,y = data.data,data.target\n",
        "print(X.shape, y.shape)\n",
        "X_train, X_test, y_train, y_test = train_test_split(X, y, test_size=0.33)\n",
        "print(X_train.shape, X_test.shape, y_train.shape, y_test.shape)"
      ],
      "execution_count": 36,
      "outputs": [
        {
          "output_type": "stream",
          "text": [
            "(569, 30) (569,)\n",
            "(381, 30) (188, 30) (381,) (188,)\n"
          ],
          "name": "stdout"
        }
      ]
    },
    {
      "cell_type": "markdown",
      "metadata": {
        "id": "eRap51cgZOQY",
        "colab_type": "text"
      },
      "source": [
        "3 - Desenvolvimento do Perceptron"
      ]
    },
    {
      "cell_type": "code",
      "metadata": {
        "id": "TJkOc-U0sBtP",
        "colab_type": "code",
        "colab": {}
      },
      "source": [
        "from sklearn.base import BaseEstimator, ClassifierMixin\n",
        "from collections import Counter\n",
        "import numpy as np\n",
        "\n",
        "\n",
        "class Perceptron(BaseEstimator, ClassifierMixin):\n",
        "  def __init__(self, learning_rate=0.1, epochs=500):\n",
        "    self.lr = learning_rate # Taxa de aprendizado\n",
        "    self.e = epochs # Épocas ou número de iterações\n",
        "    self.activation = self.step # Função de ativação - Degrau\n",
        "    self.w = None # Pesos\n",
        "    self.b = None # Bias\n",
        "\n",
        "  # Função de Ativação - Degrau\n",
        "  def step(self, x): \n",
        "    return np.where(x>=0, 1, 0)\n",
        "\n",
        "  def fit(self, X, y=None):\n",
        "    # Número de amostras e de características do input\n",
        "    q_samples, q_features = X.shape\n",
        "    \n",
        "    # Array zerada e com mesma quantidade de características do input\n",
        "    self.w = np.zeros(q_features)\n",
        "    # Bias\n",
        "    self.b = 0\n",
        "\n",
        "    # Iteração com número de épocas\n",
        "    for __ in range(self.e):\n",
        "      # Iteração pelos itens de X com o index(k) e a amostra\n",
        "      for k, sample in enumerate(X):\n",
        "        # Soma da multiplicação dos inputs pelos pesos mais o bias\n",
        "        lin_output = np.dot(sample, self.w) + self.b\n",
        "        # Cálculo da predição \n",
        "        y_pred = self.activation(lin_output)\n",
        "        # Atualização usando a taxa de aprendizado\n",
        "        update = self.lr * (y[k] - y_pred)\n",
        "        # Atualização do peso\n",
        "        self.w += update * sample\n",
        "        # Atualização do bias\n",
        "        self.b += update\n",
        "\n",
        "  def predict(self, X, y=None):\n",
        "    # Soma da multiplicação dos inputs pelos pesos mais o bias\n",
        "    linear = np.dot(X, self.w) + self.b\n",
        "    # Predição com aplicação da função de ativação\n",
        "    y_pred = self.activation(linear)\n",
        "    return y_pred"
      ],
      "execution_count": 0,
      "outputs": []
    },
    {
      "cell_type": "markdown",
      "metadata": {
        "id": "gwBQuyDEZl4X",
        "colab_type": "text"
      },
      "source": [
        "4 - Predição com os dados de teste"
      ]
    },
    {
      "cell_type": "code",
      "metadata": {
        "id": "8EWD5JUM2Asm",
        "colab_type": "code",
        "colab": {}
      },
      "source": [
        "p = Perceptron()\n",
        "p.fit(X_train, y_train)\n",
        "pred = p.predict(X_test)"
      ],
      "execution_count": 0,
      "outputs": []
    },
    {
      "cell_type": "markdown",
      "metadata": {
        "id": "-rdoKQyaZtH-",
        "colab_type": "text"
      },
      "source": [
        "5 - Verificação da acurácia"
      ]
    },
    {
      "cell_type": "code",
      "metadata": {
        "id": "hKzhvU_M2fEM",
        "colab_type": "code",
        "colab": {
          "base_uri": "https://localhost:8080/",
          "height": 34
        },
        "outputId": "780c85ce-7076-40a0-cc47-164d6011e194"
      },
      "source": [
        "from sklearn.metrics import accuracy_score\n",
        "\n",
        "print(accuracy_score(y_test, pred))"
      ],
      "execution_count": 39,
      "outputs": [
        {
          "output_type": "stream",
          "text": [
            "0.9361702127659575\n"
          ],
          "name": "stdout"
        }
      ]
    }
  ]
}